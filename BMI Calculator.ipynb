{
 "cells": [
  {
   "cell_type": "code",
   "execution_count": 11,
   "id": "94fd2092-13a9-489b-9d28-3e3d7eace0ac",
   "metadata": {},
   "outputs": [
    {
     "name": "stdin",
     "output_type": "stream",
     "text": [
      "Enter your weight in pounds: 500\n",
      "Enter your height in inches: 55\n"
     ]
    },
    {
     "name": "stdout",
     "output_type": "stream",
     "text": [
      "116.19834710743801\n",
      "Enter valid inputs\n"
     ]
    }
   ],
   "source": [
    "weight = int(input(\"Enter your weight in pounds:\"))\n",
    "height = int(input(\"Enter your height in inches:\"))\n",
    "BMI = ( weight*703 ) / ( height*height)\n",
    "print(BMI)\n",
    "if BMI>0:\n",
    "    if (BMI<18.5):\n",
    "        print(\"you are underweight\")\n",
    "    elif(BMI<=24.9):\n",
    "        print(\"you are normal weight\")\n",
    "    elif (BMI<29.9):\n",
    "        print(\"you are overweight\")\n",
    "    elif (BMI<34.9):\n",
    "        print(\"you are obese\")\n",
    "    elif (BMI<39.9):\n",
    "        print(\"you are severely obese\")\n",
    "    else:\n",
    "        print(\"Enter valid inputs\")"
   ]
  },
  {
   "cell_type": "code",
   "execution_count": 3,
   "id": "cc161b0b-3488-4da1-866e-bd89236f50b7",
   "metadata": {},
   "outputs": [
    {
     "name": "stdout",
     "output_type": "stream",
     "text": [
      "170\n"
     ]
    }
   ],
   "source": [
    "print(weight)"
   ]
  },
  {
   "cell_type": "code",
   "execution_count": 10,
   "id": "08e5071a-9d33-41ce-ab82-0a457b6af68a",
   "metadata": {},
   "outputs": [
    {
     "name": "stdout",
     "output_type": "stream",
     "text": [
      "you are overweight\n"
     ]
    }
   ],
   "source": [
    "if BMI>0:\n",
    "    if (BMI<18.5):\n",
    "        print(\"you are underweight\")\n",
    "    elif(BMI<=24.9):\n",
    "        print(\"you are normal weight\")\n",
    "    elif (BMI<29.9):\n",
    "        print(\"you are overweight\")\n",
    "    elif (BMI<34.9):\n",
    "        print(\"you are obese\")\n",
    "    elif (BMI<39.9):\n",
    "        print(\"you are severely obese\")\n",
    "    else:\n",
    "        print(\"Enter valid inputs\")\n",
    "        "
   ]
  },
  {
   "cell_type": "code",
   "execution_count": null,
   "id": "64b88031-4e1a-453f-aacf-14e74b89cae6",
   "metadata": {},
   "outputs": [],
   "source": []
  }
 ],
 "metadata": {
  "kernelspec": {
   "display_name": "Python 3 (ipykernel)",
   "language": "python",
   "name": "python3"
  },
  "language_info": {
   "codemirror_mode": {
    "name": "ipython",
    "version": 3
   },
   "file_extension": ".py",
   "mimetype": "text/x-python",
   "name": "python",
   "nbconvert_exporter": "python",
   "pygments_lexer": "ipython3",
   "version": "3.11.7"
  }
 },
 "nbformat": 4,
 "nbformat_minor": 5
}
